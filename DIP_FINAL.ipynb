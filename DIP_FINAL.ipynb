{
  "nbformat": 4,
  "nbformat_minor": 0,
  "metadata": {
    "colab": {
      "provenance": []
    },
    "kernelspec": {
      "name": "python3",
      "display_name": "Python 3"
    },
    "language_info": {
      "name": "python"
    }
  },
  "cells": [
    {
      "cell_type": "code",
      "source": [
        "import cv2\n",
        "import numpy as np\n",
        "import random"
      ],
      "metadata": {
        "id": "4XuVMsWLSUxp"
      },
      "execution_count": null,
      "outputs": []
    },
    {
      "cell_type": "code",
      "execution_count": null,
      "metadata": {
        "id": "5dzLYuHAPl8a"
      },
      "outputs": [],
      "source": [
        "def encrypt():\n",
        "    # getting the location of the 2 images\n",
        "    img_1_loc = input('Enter the Cover Image :')   #cover image\n",
        "    img_2_loc = input('Enter the Image to Hide :') #secret iamge\n",
        "\n",
        "    #reading the 2 images\n",
        "    img1 = cv2.imread(img_1_loc) # cover image\n",
        "    img2 = cv2.imread(img_2_loc) #secret iamge\n",
        "\n",
        "    #accessing each pixel of the image\n",
        "    for i in range(img2.shape[0]):      #image.shape[0] ==> no. of rows\n",
        "        for j in range(img2.shape[1]):  #image.shape[1] ==> no. of columns\n",
        "            for l in range(3):\n",
        "\n",
        "                # converting image pixel values into binary format\n",
        "                v1 = format(img1[i][j][l], '08b')  #binary format of cover image\n",
        "                v2 = format(img2[i][j][l], '08b')  #binary format of secret iamge\n",
        "\n",
        "                # extractign 4 most significant bits (MSB) of each image\n",
        "                v3 = v1[:4] + v2[:4]\n",
        "\n",
        "                #converting the binary number to decimal format (stego image)\n",
        "                img1[i][j][l]= int(v3, 2)\n",
        "    #saving stego image\n",
        "    cv2.imwrite('Secret.jpeg', img1)"
      ]
    },
    {
      "cell_type": "code",
      "source": [
        "def decrypt():\n",
        "  #getting the location of the input from the user\n",
        "  im_name = input('Enter the name of the image to be decrypted:')\n",
        "  img = cv2.imread(im_name)  # reading the file\n",
        "  #f_name_1 = input('Enter the name of the first image:')\n",
        "  #f_name_2 = input('Enter the name  of the second image:')\n",
        "\n",
        "  # Encrypted image - getting number of rows and columns\n",
        "  rows = img.shape[0]\n",
        "  cols = img.shape[1]\n",
        "\n",
        "  # initialising zero images for decoding stego image- img1 and img2 are two blank images\n",
        "  img1 = np.zeros((rows, cols, 3), np.uint8)\n",
        "  img2 = np.zeros((rows, cols, 3), np.uint8)\n",
        "\n",
        "   #splitting the stego image into 2 different arrays\n",
        "  for i in range(rows):\n",
        "      for j in range(cols):\n",
        "          for l in range(3):\n",
        "              v1 = format(img[i][j][l], '08b')\n",
        "              v2 = v1[:4] + chr(random.randint(0, 1)+48) * 4\n",
        "              v3 = v1[4:] + chr(random.randint(0, 1)+48) * 4\n",
        "\n",
        "              # Appending data to img1 and img2\n",
        "              img1[i][j][l]= int(v2, 2)\n",
        "              img2[i][j][l]= int(v3, 2)\n",
        "\n",
        "  # These are two images produced from the encrypted image - saving only the secret message image\n",
        "  #cv2.imwrite('pic2_re.png', img1)\n",
        "  cv2.imwrite('DecryptedImage.jpeg', img2)\n",
        "  #saving the 2 images\n",
        "  #cv2.imwrite(f_name_1,img_1)\n",
        "  #cv2.imwrite(f_name_2,img_2)"
      ],
      "metadata": {
        "id": "xkZ9G-NjRmBD"
      },
      "execution_count": null,
      "outputs": []
    },
    {
      "cell_type": "code",
      "source": [
        "# function for taking the process input from the user\n",
        "def Image_steganography():\n",
        "  a = int(input('1.Encryption \\n2.Decryption\\nEnter you choice:'))\n",
        "  if (a==1):\n",
        "    print('\\n Encrypting...')\n",
        "    encrypt()\n",
        "    print('Finished encrypting')\n",
        "  else:\n",
        "    print('\\n Decrypting...')\n",
        "    decrypt()\n",
        "    print('Finished decrypting')"
      ],
      "metadata": {
        "id": "j5-iXtNqSBox"
      },
      "execution_count": null,
      "outputs": []
    },
    {
      "cell_type": "code",
      "source": [
        "Image_steganography()"
      ],
      "metadata": {
        "colab": {
          "base_uri": "https://localhost:8080/"
        },
        "id": "V68aFdfQSESy",
        "outputId": "4e6a3a28-425a-4184-d80b-aa36c614ea05"
      },
      "execution_count": null,
      "outputs": [
        {
          "output_type": "stream",
          "name": "stdout",
          "text": [
            "1.Encryption \n",
            "2.Decryption\n",
            "Enter you choice:1\n",
            "\n",
            " Encrypting...\n",
            "Enter the Cover Image :/content/cat.jpg\n",
            "Enter the Image to Hide :/content/dog.jpg\n",
            "Finished encrypting\n"
          ]
        }
      ]
    },
    {
      "cell_type": "code",
      "source": [
        "Image_steganography()"
      ],
      "metadata": {
        "colab": {
          "base_uri": "https://localhost:8080/"
        },
        "id": "g6CUcuASSO-1",
        "outputId": "52be16fb-c9ed-4238-ead1-031cc4281a8e"
      },
      "execution_count": null,
      "outputs": [
        {
          "output_type": "stream",
          "name": "stdout",
          "text": [
            "1.Encryption \n",
            "2.Decryption\n",
            "Enter you choice:2\n",
            "\n",
            " Decrypting...\n",
            "Enter the name of the image to be decrypted:/content/Secret.jpeg\n",
            "Finished decrypting\n"
          ]
        }
      ]
    },
    {
      "cell_type": "code",
      "source": [],
      "metadata": {
        "id": "_Heh0RMrCXVl"
      },
      "execution_count": null,
      "outputs": []
    }
  ]
}